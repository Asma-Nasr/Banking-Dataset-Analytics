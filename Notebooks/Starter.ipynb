{
 "cells": [
  {
   "cell_type": "code",
   "execution_count": 7,
   "id": "42637e07",
   "metadata": {},
   "outputs": [],
   "source": [
    "import sqlite3\n",
    "import pandas as pd"
   ]
  },
  {
   "cell_type": "code",
   "execution_count": 13,
   "id": "61799ae4",
   "metadata": {},
   "outputs": [],
   "source": [
    "conn = sqlite3.connect('../Database/bank.db')"
   ]
  },
  {
   "cell_type": "code",
   "execution_count": 6,
   "id": "70594343",
   "metadata": {},
   "outputs": [
    {
     "data": {
      "text/plain": [
       "[(1,\n",
       "  'Cory',\n",
       "  'Lara',\n",
       "  'Customer Service',\n",
       "  'Management',\n",
       "  11,\n",
       "  '2018-08-12',\n",
       "  12268.61),\n",
       " (2, 'Carl', 'Murray', 'Teller', 'IT', 13, '2018-04-07', 9074.62),\n",
       " (3,\n",
       "  'Deborah',\n",
       "  'Blair',\n",
       "  'Credit Officer',\n",
       "  'Operations',\n",
       "  5,\n",
       "  '2019-07-22',\n",
       "  6456.46),\n",
       " (4, 'Carolyn', 'Ramos', 'IT Officer', 'IT', 7, '2020-03-10', 1469.32),\n",
       " (5,\n",
       "  'Amanda',\n",
       "  'Whitehead',\n",
       "  'Customer Service',\n",
       "  'Customer Service',\n",
       "  15,\n",
       "  '2016-02-08',\n",
       "  5149.36)]"
      ]
     },
     "execution_count": 6,
     "metadata": {},
     "output_type": "execute_result"
    }
   ],
   "source": [
    "cursor = conn.cursor()\n",
    "cursor.execute(\"SELECT * FROM Employees LIMIT 5;\")\n",
    "cursor.fetchall()"
   ]
  },
  {
   "cell_type": "code",
   "execution_count": 14,
   "id": "08423326",
   "metadata": {},
   "outputs": [],
   "source": [
    "# By pandas read_sql\n",
    "Employees = pd.read_sql('SELECT * FROM Employees',conn)\n",
    "Customers = pd.read_sql('SELECT * FROM Customers',conn)"
   ]
  },
  {
   "cell_type": "code",
   "execution_count": 9,
   "id": "a79873bc",
   "metadata": {},
   "outputs": [],
   "source": [
    "conn.close()"
   ]
  },
  {
   "cell_type": "code",
   "execution_count": 10,
   "id": "5ce1bcde",
   "metadata": {},
   "outputs": [
    {
     "data": {
      "application/vnd.microsoft.datawrangler.viewer.v0+json": {
       "columns": [
        {
         "name": "index",
         "rawType": "int64",
         "type": "integer"
        },
        {
         "name": "employee_id",
         "rawType": "int64",
         "type": "integer"
        },
        {
         "name": "first_name",
         "rawType": "object",
         "type": "string"
        },
        {
         "name": "last_name",
         "rawType": "object",
         "type": "string"
        },
        {
         "name": "position",
         "rawType": "object",
         "type": "string"
        },
        {
         "name": "department",
         "rawType": "object",
         "type": "string"
        },
        {
         "name": "branch_id",
         "rawType": "int64",
         "type": "integer"
        },
        {
         "name": "hire_date",
         "rawType": "object",
         "type": "string"
        },
        {
         "name": "salary",
         "rawType": "float64",
         "type": "float"
        }
       ],
       "ref": "bb20c174-a88a-41c0-b6ff-82a62bb99ae3",
       "rows": [
        [
         "0",
         "1",
         "Cory",
         "Lara",
         "Customer Service",
         "Management",
         "11",
         "2018-08-12",
         "12268.61"
        ],
        [
         "1",
         "2",
         "Carl",
         "Murray",
         "Teller",
         "IT",
         "13",
         "2018-04-07",
         "9074.62"
        ],
        [
         "2",
         "3",
         "Deborah",
         "Blair",
         "Credit Officer",
         "Operations",
         "5",
         "2019-07-22",
         "6456.46"
        ],
        [
         "3",
         "4",
         "Carolyn",
         "Ramos",
         "IT Officer",
         "IT",
         "7",
         "2020-03-10",
         "1469.32"
        ],
        [
         "4",
         "5",
         "Amanda",
         "Whitehead",
         "Customer Service",
         "Customer Service",
         "15",
         "2016-02-08",
         "5149.36"
        ]
       ],
       "shape": {
        "columns": 8,
        "rows": 5
       }
      },
      "text/html": [
       "<div>\n",
       "<style scoped>\n",
       "    .dataframe tbody tr th:only-of-type {\n",
       "        vertical-align: middle;\n",
       "    }\n",
       "\n",
       "    .dataframe tbody tr th {\n",
       "        vertical-align: top;\n",
       "    }\n",
       "\n",
       "    .dataframe thead th {\n",
       "        text-align: right;\n",
       "    }\n",
       "</style>\n",
       "<table border=\"1\" class=\"dataframe\">\n",
       "  <thead>\n",
       "    <tr style=\"text-align: right;\">\n",
       "      <th></th>\n",
       "      <th>employee_id</th>\n",
       "      <th>first_name</th>\n",
       "      <th>last_name</th>\n",
       "      <th>position</th>\n",
       "      <th>department</th>\n",
       "      <th>branch_id</th>\n",
       "      <th>hire_date</th>\n",
       "      <th>salary</th>\n",
       "    </tr>\n",
       "  </thead>\n",
       "  <tbody>\n",
       "    <tr>\n",
       "      <th>0</th>\n",
       "      <td>1</td>\n",
       "      <td>Cory</td>\n",
       "      <td>Lara</td>\n",
       "      <td>Customer Service</td>\n",
       "      <td>Management</td>\n",
       "      <td>11</td>\n",
       "      <td>2018-08-12</td>\n",
       "      <td>12268.61</td>\n",
       "    </tr>\n",
       "    <tr>\n",
       "      <th>1</th>\n",
       "      <td>2</td>\n",
       "      <td>Carl</td>\n",
       "      <td>Murray</td>\n",
       "      <td>Teller</td>\n",
       "      <td>IT</td>\n",
       "      <td>13</td>\n",
       "      <td>2018-04-07</td>\n",
       "      <td>9074.62</td>\n",
       "    </tr>\n",
       "    <tr>\n",
       "      <th>2</th>\n",
       "      <td>3</td>\n",
       "      <td>Deborah</td>\n",
       "      <td>Blair</td>\n",
       "      <td>Credit Officer</td>\n",
       "      <td>Operations</td>\n",
       "      <td>5</td>\n",
       "      <td>2019-07-22</td>\n",
       "      <td>6456.46</td>\n",
       "    </tr>\n",
       "    <tr>\n",
       "      <th>3</th>\n",
       "      <td>4</td>\n",
       "      <td>Carolyn</td>\n",
       "      <td>Ramos</td>\n",
       "      <td>IT Officer</td>\n",
       "      <td>IT</td>\n",
       "      <td>7</td>\n",
       "      <td>2020-03-10</td>\n",
       "      <td>1469.32</td>\n",
       "    </tr>\n",
       "    <tr>\n",
       "      <th>4</th>\n",
       "      <td>5</td>\n",
       "      <td>Amanda</td>\n",
       "      <td>Whitehead</td>\n",
       "      <td>Customer Service</td>\n",
       "      <td>Customer Service</td>\n",
       "      <td>15</td>\n",
       "      <td>2016-02-08</td>\n",
       "      <td>5149.36</td>\n",
       "    </tr>\n",
       "  </tbody>\n",
       "</table>\n",
       "</div>"
      ],
      "text/plain": [
       "   employee_id first_name  last_name          position        department  \\\n",
       "0            1       Cory       Lara  Customer Service        Management   \n",
       "1            2       Carl     Murray            Teller                IT   \n",
       "2            3    Deborah      Blair    Credit Officer        Operations   \n",
       "3            4    Carolyn      Ramos        IT Officer                IT   \n",
       "4            5     Amanda  Whitehead  Customer Service  Customer Service   \n",
       "\n",
       "   branch_id   hire_date    salary  \n",
       "0         11  2018-08-12  12268.61  \n",
       "1         13  2018-04-07   9074.62  \n",
       "2          5  2019-07-22   6456.46  \n",
       "3          7  2020-03-10   1469.32  \n",
       "4         15  2016-02-08   5149.36  "
      ]
     },
     "execution_count": 10,
     "metadata": {},
     "output_type": "execute_result"
    }
   ],
   "source": [
    "Employees.head(5)"
   ]
  },
  {
   "cell_type": "code",
   "execution_count": null,
   "id": "da4dd027",
   "metadata": {},
   "outputs": [
    {
     "data": {
      "application/vnd.microsoft.datawrangler.viewer.v0+json": {
       "columns": [
        {
         "name": "index",
         "rawType": "object",
         "type": "string"
        },
        {
         "name": "0",
         "rawType": "int64",
         "type": "integer"
        }
       ],
       "ref": "443e7a3d-e808-4dd3-be8d-7a4a662b0064",
       "rows": [
        [
         "employee_id",
         "0"
        ],
        [
         "first_name",
         "0"
        ],
        [
         "last_name",
         "0"
        ],
        [
         "position",
         "0"
        ],
        [
         "department",
         "0"
        ],
        [
         "branch_id",
         "0"
        ],
        [
         "hire_date",
         "0"
        ],
        [
         "salary",
         "42"
        ]
       ],
       "shape": {
        "columns": 1,
        "rows": 8
       }
      },
      "text/plain": [
       "employee_id     0\n",
       "first_name      0\n",
       "last_name       0\n",
       "position        0\n",
       "department      0\n",
       "branch_id       0\n",
       "hire_date       0\n",
       "salary         42\n",
       "dtype: int64"
      ]
     },
     "execution_count": 12,
     "metadata": {},
     "output_type": "execute_result"
    }
   ],
   "source": [
    "# Number of missing data in the Employees table\n",
    "Employees.isnull().sum()\n",
    "# The salary column has 42 missing values"
   ]
  },
  {
   "cell_type": "code",
   "execution_count": 15,
   "id": "41a48b06",
   "metadata": {},
   "outputs": [
    {
     "data": {
      "application/vnd.microsoft.datawrangler.viewer.v0+json": {
       "columns": [
        {
         "name": "index",
         "rawType": "object",
         "type": "string"
        },
        {
         "name": "0",
         "rawType": "int64",
         "type": "integer"
        }
       ],
       "ref": "336a67c2-8270-496d-83cb-79e56a089259",
       "rows": [
        [
         "customer_id",
         "0"
        ],
        [
         "first_name",
         "0"
        ],
        [
         "last_name",
         "0"
        ],
        [
         "dob",
         "0"
        ],
        [
         "national_id",
         "158"
        ],
        [
         "phone",
         "83"
        ],
        [
         "email",
         "295"
        ],
        [
         "address",
         "0"
        ],
        [
         "branch_id",
         "0"
        ]
       ],
       "shape": {
        "columns": 1,
        "rows": 9
       }
      },
      "text/plain": [
       "customer_id      0\n",
       "first_name       0\n",
       "last_name        0\n",
       "dob              0\n",
       "national_id    158\n",
       "phone           83\n",
       "email          295\n",
       "address          0\n",
       "branch_id        0\n",
       "dtype: int64"
      ]
     },
     "execution_count": 15,
     "metadata": {},
     "output_type": "execute_result"
    }
   ],
   "source": [
    "# Number of missing data in the Custoemrs table\n",
    "Customers.isnull().sum()"
   ]
  }
 ],
 "metadata": {
  "kernelspec": {
   "display_name": "base",
   "language": "python",
   "name": "python3"
  },
  "language_info": {
   "codemirror_mode": {
    "name": "ipython",
    "version": 3
   },
   "file_extension": ".py",
   "mimetype": "text/x-python",
   "name": "python",
   "nbconvert_exporter": "python",
   "pygments_lexer": "ipython3",
   "version": "3.11.5"
  }
 },
 "nbformat": 4,
 "nbformat_minor": 5
}
