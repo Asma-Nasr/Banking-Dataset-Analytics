{
 "cells": [
  {
   "cell_type": "code",
   "execution_count": 2,
   "id": "80bd0dd9",
   "metadata": {},
   "outputs": [],
   "source": [
    "import pandas as pd \n",
    "import sqlite3\n",
    "import matplotlib.pyplot as plt\n",
    "import seaborn as sns"
   ]
  },
  {
   "cell_type": "code",
   "execution_count": 3,
   "id": "b0771b21",
   "metadata": {},
   "outputs": [],
   "source": [
    "conn = sqlite3.connect('../Database/bank.db')"
   ]
  },
  {
   "cell_type": "code",
   "execution_count": 4,
   "id": "c29e2484",
   "metadata": {},
   "outputs": [],
   "source": [
    "employees = pd.read_sql(\"SELECT * FROM Employees\", conn)"
   ]
  },
  {
   "cell_type": "code",
   "execution_count": 5,
   "id": "dd707e3d",
   "metadata": {},
   "outputs": [],
   "source": [
    "conn.close()"
   ]
  },
  {
   "cell_type": "markdown",
   "id": "db810815",
   "metadata": {},
   "source": [
    "# Employees"
   ]
  },
  {
   "cell_type": "code",
   "execution_count": 6,
   "id": "316f73e2",
   "metadata": {},
   "outputs": [
    {
     "data": {
      "application/vnd.microsoft.datawrangler.viewer.v0+json": {
       "columns": [
        {
         "name": "index",
         "rawType": "int64",
         "type": "integer"
        },
        {
         "name": "employee_id",
         "rawType": "int64",
         "type": "integer"
        },
        {
         "name": "first_name",
         "rawType": "object",
         "type": "string"
        },
        {
         "name": "last_name",
         "rawType": "object",
         "type": "string"
        },
        {
         "name": "position",
         "rawType": "object",
         "type": "string"
        },
        {
         "name": "department",
         "rawType": "object",
         "type": "string"
        },
        {
         "name": "branch_id",
         "rawType": "int64",
         "type": "integer"
        },
        {
         "name": "hire_date",
         "rawType": "object",
         "type": "string"
        },
        {
         "name": "salary",
         "rawType": "float64",
         "type": "float"
        }
       ],
       "ref": "e97e81ac-80c0-499a-ba35-1dcdded198a2",
       "rows": [
        [
         "0",
         "1",
         "Cory",
         "Lara",
         "Customer Service",
         "Management",
         "11",
         "2018-08-12",
         "12268.61"
        ],
        [
         "1",
         "2",
         "Carl",
         "Murray",
         "Teller",
         "IT",
         "13",
         "2018-04-07",
         "9074.62"
        ],
        [
         "2",
         "3",
         "Deborah",
         "Blair",
         "Credit Officer",
         "Operations",
         "5",
         "2019-07-22",
         "6456.46"
        ],
        [
         "3",
         "4",
         "Carolyn",
         "Ramos",
         "IT Officer",
         "IT",
         "7",
         "2020-03-10",
         "1469.32"
        ],
        [
         "4",
         "5",
         "Amanda",
         "Whitehead",
         "Customer Service",
         "Customer Service",
         "15",
         "2016-02-08",
         "5149.36"
        ]
       ],
       "shape": {
        "columns": 8,
        "rows": 5
       }
      },
      "text/html": [
       "<div>\n",
       "<style scoped>\n",
       "    .dataframe tbody tr th:only-of-type {\n",
       "        vertical-align: middle;\n",
       "    }\n",
       "\n",
       "    .dataframe tbody tr th {\n",
       "        vertical-align: top;\n",
       "    }\n",
       "\n",
       "    .dataframe thead th {\n",
       "        text-align: right;\n",
       "    }\n",
       "</style>\n",
       "<table border=\"1\" class=\"dataframe\">\n",
       "  <thead>\n",
       "    <tr style=\"text-align: right;\">\n",
       "      <th></th>\n",
       "      <th>employee_id</th>\n",
       "      <th>first_name</th>\n",
       "      <th>last_name</th>\n",
       "      <th>position</th>\n",
       "      <th>department</th>\n",
       "      <th>branch_id</th>\n",
       "      <th>hire_date</th>\n",
       "      <th>salary</th>\n",
       "    </tr>\n",
       "  </thead>\n",
       "  <tbody>\n",
       "    <tr>\n",
       "      <th>0</th>\n",
       "      <td>1</td>\n",
       "      <td>Cory</td>\n",
       "      <td>Lara</td>\n",
       "      <td>Customer Service</td>\n",
       "      <td>Management</td>\n",
       "      <td>11</td>\n",
       "      <td>2018-08-12</td>\n",
       "      <td>12268.61</td>\n",
       "    </tr>\n",
       "    <tr>\n",
       "      <th>1</th>\n",
       "      <td>2</td>\n",
       "      <td>Carl</td>\n",
       "      <td>Murray</td>\n",
       "      <td>Teller</td>\n",
       "      <td>IT</td>\n",
       "      <td>13</td>\n",
       "      <td>2018-04-07</td>\n",
       "      <td>9074.62</td>\n",
       "    </tr>\n",
       "    <tr>\n",
       "      <th>2</th>\n",
       "      <td>3</td>\n",
       "      <td>Deborah</td>\n",
       "      <td>Blair</td>\n",
       "      <td>Credit Officer</td>\n",
       "      <td>Operations</td>\n",
       "      <td>5</td>\n",
       "      <td>2019-07-22</td>\n",
       "      <td>6456.46</td>\n",
       "    </tr>\n",
       "    <tr>\n",
       "      <th>3</th>\n",
       "      <td>4</td>\n",
       "      <td>Carolyn</td>\n",
       "      <td>Ramos</td>\n",
       "      <td>IT Officer</td>\n",
       "      <td>IT</td>\n",
       "      <td>7</td>\n",
       "      <td>2020-03-10</td>\n",
       "      <td>1469.32</td>\n",
       "    </tr>\n",
       "    <tr>\n",
       "      <th>4</th>\n",
       "      <td>5</td>\n",
       "      <td>Amanda</td>\n",
       "      <td>Whitehead</td>\n",
       "      <td>Customer Service</td>\n",
       "      <td>Customer Service</td>\n",
       "      <td>15</td>\n",
       "      <td>2016-02-08</td>\n",
       "      <td>5149.36</td>\n",
       "    </tr>\n",
       "  </tbody>\n",
       "</table>\n",
       "</div>"
      ],
      "text/plain": [
       "   employee_id first_name  last_name          position        department  \\\n",
       "0            1       Cory       Lara  Customer Service        Management   \n",
       "1            2       Carl     Murray            Teller                IT   \n",
       "2            3    Deborah      Blair    Credit Officer        Operations   \n",
       "3            4    Carolyn      Ramos        IT Officer                IT   \n",
       "4            5     Amanda  Whitehead  Customer Service  Customer Service   \n",
       "\n",
       "   branch_id   hire_date    salary  \n",
       "0         11  2018-08-12  12268.61  \n",
       "1         13  2018-04-07   9074.62  \n",
       "2          5  2019-07-22   6456.46  \n",
       "3          7  2020-03-10   1469.32  \n",
       "4         15  2016-02-08   5149.36  "
      ]
     },
     "execution_count": 6,
     "metadata": {},
     "output_type": "execute_result"
    }
   ],
   "source": [
    "employees.head()"
   ]
  },
  {
   "cell_type": "markdown",
   "id": "e5de5708",
   "metadata": {},
   "source": [
    "## Missing values?"
   ]
  },
  {
   "cell_type": "code",
   "execution_count": 7,
   "id": "b763daf9",
   "metadata": {},
   "outputs": [
    {
     "data": {
      "application/vnd.microsoft.datawrangler.viewer.v0+json": {
       "columns": [
        {
         "name": "index",
         "rawType": "object",
         "type": "string"
        },
        {
         "name": "0",
         "rawType": "int64",
         "type": "integer"
        }
       ],
       "ref": "5dc034d9-7d99-4591-b093-94d6c5247fd1",
       "rows": [
        [
         "employee_id",
         "0"
        ],
        [
         "first_name",
         "0"
        ],
        [
         "last_name",
         "0"
        ],
        [
         "position",
         "0"
        ],
        [
         "department",
         "0"
        ],
        [
         "branch_id",
         "0"
        ],
        [
         "hire_date",
         "0"
        ],
        [
         "salary",
         "42"
        ]
       ],
       "shape": {
        "columns": 1,
        "rows": 8
       }
      },
      "text/plain": [
       "employee_id     0\n",
       "first_name      0\n",
       "last_name       0\n",
       "position        0\n",
       "department      0\n",
       "branch_id       0\n",
       "hire_date       0\n",
       "salary         42\n",
       "dtype: int64"
      ]
     },
     "execution_count": 7,
     "metadata": {},
     "output_type": "execute_result"
    }
   ],
   "source": [
    "employees.isna().sum() "
   ]
  },
  {
   "cell_type": "markdown",
   "id": "71f6bbe7",
   "metadata": {},
   "source": [
    "## Mean, Max, Min of employees salaries of each department"
   ]
  },
  {
   "cell_type": "code",
   "execution_count": 8,
   "id": "dbfc401a",
   "metadata": {},
   "outputs": [
    {
     "data": {
      "application/vnd.microsoft.datawrangler.viewer.v0+json": {
       "columns": [
        {
         "name": "department",
         "rawType": "object",
         "type": "string"
        },
        {
         "name": "Mean Salary",
         "rawType": "float64",
         "type": "float"
        },
        {
         "name": "Max Salary",
         "rawType": "float64",
         "type": "float"
        },
        {
         "name": "Min Salary",
         "rawType": "float64",
         "type": "float"
        }
       ],
       "ref": "5ffe925e-cc03-45db-94e3-eba5302bee0e",
       "rows": [
        [
         "Operations",
         "8618.91",
         "14895.03",
         "903.55"
        ],
        [
         "Management",
         "7837.83",
         "14995.39",
         "800.06"
        ],
        [
         "Customer Service",
         "7661.76",
         "14692.96",
         "872.96"
        ],
        [
         "Retail Banking",
         "7445.55",
         "14983.68",
         "851.72"
        ],
        [
         "Financing",
         "7369.96",
         "14939.97",
         "1057.32"
        ],
        [
         "IT",
         "7295.97",
         "14898.71",
         "1198.55"
        ]
       ],
       "shape": {
        "columns": 3,
        "rows": 6
       }
      },
      "text/html": [
       "<div>\n",
       "<style scoped>\n",
       "    .dataframe tbody tr th:only-of-type {\n",
       "        vertical-align: middle;\n",
       "    }\n",
       "\n",
       "    .dataframe tbody tr th {\n",
       "        vertical-align: top;\n",
       "    }\n",
       "\n",
       "    .dataframe thead th {\n",
       "        text-align: right;\n",
       "    }\n",
       "</style>\n",
       "<table border=\"1\" class=\"dataframe\">\n",
       "  <thead>\n",
       "    <tr style=\"text-align: right;\">\n",
       "      <th></th>\n",
       "      <th>Mean Salary</th>\n",
       "      <th>Max Salary</th>\n",
       "      <th>Min Salary</th>\n",
       "    </tr>\n",
       "    <tr>\n",
       "      <th>department</th>\n",
       "      <th></th>\n",
       "      <th></th>\n",
       "      <th></th>\n",
       "    </tr>\n",
       "  </thead>\n",
       "  <tbody>\n",
       "    <tr>\n",
       "      <th>Operations</th>\n",
       "      <td>8618.91</td>\n",
       "      <td>14895.03</td>\n",
       "      <td>903.55</td>\n",
       "    </tr>\n",
       "    <tr>\n",
       "      <th>Management</th>\n",
       "      <td>7837.83</td>\n",
       "      <td>14995.39</td>\n",
       "      <td>800.06</td>\n",
       "    </tr>\n",
       "    <tr>\n",
       "      <th>Customer Service</th>\n",
       "      <td>7661.76</td>\n",
       "      <td>14692.96</td>\n",
       "      <td>872.96</td>\n",
       "    </tr>\n",
       "    <tr>\n",
       "      <th>Retail Banking</th>\n",
       "      <td>7445.55</td>\n",
       "      <td>14983.68</td>\n",
       "      <td>851.72</td>\n",
       "    </tr>\n",
       "    <tr>\n",
       "      <th>Financing</th>\n",
       "      <td>7369.96</td>\n",
       "      <td>14939.97</td>\n",
       "      <td>1057.32</td>\n",
       "    </tr>\n",
       "    <tr>\n",
       "      <th>IT</th>\n",
       "      <td>7295.97</td>\n",
       "      <td>14898.71</td>\n",
       "      <td>1198.55</td>\n",
       "    </tr>\n",
       "  </tbody>\n",
       "</table>\n",
       "</div>"
      ],
      "text/plain": [
       "                  Mean Salary  Max Salary  Min Salary\n",
       "department                                           \n",
       "Operations            8618.91    14895.03      903.55\n",
       "Management            7837.83    14995.39      800.06\n",
       "Customer Service      7661.76    14692.96      872.96\n",
       "Retail Banking        7445.55    14983.68      851.72\n",
       "Financing             7369.96    14939.97     1057.32\n",
       "IT                    7295.97    14898.71     1198.55"
      ]
     },
     "execution_count": 8,
     "metadata": {},
     "output_type": "execute_result"
    }
   ],
   "source": [
    "summary = employees.groupby('department')['salary'].agg(['mean','max','min']).round(2)\n",
    "summary.columns = ['Mean Salary', 'Max Salary','Min Salary']\n",
    "summary = summary.sort_values(by='Mean Salary',ascending=False)\n",
    "summary"
   ]
  },
  {
   "cell_type": "markdown",
   "id": "a734ad47",
   "metadata": {},
   "source": [
    "## Handeling Missing data"
   ]
  },
  {
   "cell_type": "code",
   "execution_count": null,
   "id": "f3f5bb96",
   "metadata": {},
   "outputs": [],
   "source": [
    "# filling the salary with the mean of the department salary\n",
    "employees['salary'] = employees.groupby('department')['salary'].transform(lambda x: x.fillna(x.mean()))"
   ]
  },
  {
   "cell_type": "code",
   "execution_count": 10,
   "id": "0bba058f",
   "metadata": {},
   "outputs": [
    {
     "data": {
      "text/plain": [
       "0"
      ]
     },
     "execution_count": 10,
     "metadata": {},
     "output_type": "execute_result"
    }
   ],
   "source": [
    "employees.isnull().sum().sum()"
   ]
  },
  {
   "cell_type": "markdown",
   "id": "d8e2a6dc",
   "metadata": {},
   "source": [
    "## Exploratory Data Analysis EDA"
   ]
  },
  {
   "cell_type": "code",
   "execution_count": 11,
   "id": "3ea8b276",
   "metadata": {},
   "outputs": [],
   "source": [
    "numerical_columns = employees.select_dtypes(include='number').columns\n",
    "categorcial_columns = employees.select_dtypes(include='object').columns"
   ]
  },
  {
   "cell_type": "code",
   "execution_count": 33,
   "id": "1dfdf111",
   "metadata": {},
   "outputs": [
    {
     "data": {
      "text/html": [
       "<svg  width=\"330\" height=\"55\"><rect x=\"0\" y=\"0\" width=\"55\" height=\"55\" style=\"fill:#664228;stroke-width:2;stroke:rgb(255,255,255)\"/><rect x=\"55\" y=\"0\" width=\"55\" height=\"55\" style=\"fill:#d95f02;stroke-width:2;stroke:rgb(255,255,255)\"/><rect x=\"110\" y=\"0\" width=\"55\" height=\"55\" style=\"fill:#ff9933;stroke-width:2;stroke:rgb(255,255,255)\"/><rect x=\"165\" y=\"0\" width=\"55\" height=\"55\" style=\"fill:#e6bc5c;stroke-width:2;stroke:rgb(255,255,255)\"/><rect x=\"220\" y=\"0\" width=\"55\" height=\"55\" style=\"fill:#fed85d;stroke-width:2;stroke:rgb(255,255,255)\"/><rect x=\"275\" y=\"0\" width=\"55\" height=\"55\" style=\"fill:#fbe7b2;stroke-width:2;stroke:rgb(255,255,255)\"/></svg>"
      ],
      "text/plain": [
       "[(0.4, 0.25882352941176473, 0.1568627450980392),\n",
       " (0.8509803921568627, 0.37254901960784315, 0.00784313725490196),\n",
       " (1.0, 0.6, 0.2),\n",
       " (0.9019607843137255, 0.7372549019607844, 0.3607843137254902),\n",
       " (0.996078431372549, 0.8470588235294118, 0.36470588235294116),\n",
       " (0.984313725490196, 0.9058823529411765, 0.6980392156862745)]"
      ]
     },
     "execution_count": 33,
     "metadata": {},
     "output_type": "execute_result"
    }
   ],
   "source": [
    "colors = ['#664228','#D95F02','#FF9933','#E6BC5C',\"#FED85D\",\"#FBE7B2\"]\n",
    "# Create the color palette with hex colors\n",
    "sns.color_palette(colors)"
   ]
  },
  {
   "cell_type": "code",
   "execution_count": 26,
   "id": "9554b677",
   "metadata": {},
   "outputs": [
    {
     "data": {
      "image/png": "[encoded data removed]",
      "text/plain": [
       "<Figure size 1000x600 with 3 Axes>"
      ]
     },
     "metadata": {},
     "output_type": "display_data"
    }
   ],
   "source": [
    "plt.figure(figsize=(10,6))\n",
    "for i, col in enumerate(numerical_columns):\n",
    "    plt.subplot(2,2,i+1)\n",
    "    sns.histplot(data=employees,x=col)\n",
    "plt.tight_layout()    \n",
    "plt.show()"
   ]
  },
  {
   "cell_type": "code",
   "execution_count": 34,
   "id": "7b96cae4",
   "metadata": {},
   "outputs": [
    {
     "data": {
      "image/png": "[encoded data removed]",
      "text/plain": [
       "<Figure size 1600x400 with 2 Axes>"
      ]
     },
     "metadata": {},
     "output_type": "display_data"
    }
   ],
   "source": [
    "plt.figure(figsize=(16,4))\n",
    "for i,col in enumerate(['position','department']):\n",
    "    plt.subplot(1,2,i+1)\n",
    "    sns.countplot(data=employees,x=col,palette=colors)\n",
    "    plt.xticks(rotation=45)\n",
    "\n",
    "plt.show()"
   ]
  }
 ],
 "metadata": {
  "kernelspec": {
   "display_name": "base",
   "language": "python",
   "name": "python3"
  },
  "language_info": {
   "codemirror_mode": {
    "name": "ipython",
    "version": 3
   },
   "file_extension": ".py",
   "mimetype": "text/x-python",
   "name": "python",
   "nbconvert_exporter": "python",
   "pygments_lexer": "ipython3",
   "version": "3.11.5"
  }
 },
 "nbformat": 4,
 "nbformat_minor": 5
}
